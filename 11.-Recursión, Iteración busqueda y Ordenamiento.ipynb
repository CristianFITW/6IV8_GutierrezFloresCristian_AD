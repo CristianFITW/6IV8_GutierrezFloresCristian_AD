{
 "cells": [
  {
   "cell_type": "markdown",
   "id": "c62ad494-a83c-4813-b714-1de3c79b7fe8",
   "metadata": {},
   "source": [
    "# 11.-Recursión, Búsqueda, Ordenamiento, Iteración"
   ]
  },
  {
   "cell_type": "markdown",
   "id": "0ef859f9-42a3-4c99-acf6-4aef58fec780",
   "metadata": {},
   "source": [
    "## 11.2.- Algoritmos iterativos y Recursivos"
   ]
  },
  {
   "cell_type": "markdown",
   "id": "791ef129-54a0-40aa-9177-da4422d09c58",
   "metadata": {},
   "source": [
    "### 11.2.1.- Fibonacci"
   ]
  },
  {
   "cell_type": "markdown",
   "id": "46e9d8f2-9fd2-4f84-9fef-1d45fee9bcc1",
   "metadata": {},
   "source": [
    "Vamos a armar la sucesión de Fibonacci - Comenamos definiendola. Recuerda que los primeros 2 numeros, son 0 y 1, y los numeros subsecuentes son la suma de los 2 anteriores"
   ]
  },
  {
   "cell_type": "code",
   "execution_count": 1,
   "id": "7221f5f0-f2e3-4c4f-a036-b7c0477a8114",
   "metadata": {},
   "outputs": [
    {
     "name": "stdout",
     "output_type": "stream",
     "text": [
      "k(0)=0\n",
      "k(1)=1\n",
      "k(2)=1\n",
      "k(3)=2\n",
      "k(4)=3\n",
      "k(5)=5\n",
      "k(6)=8\n",
      "k(7)=13\n",
      "k(8)=21\n",
      "k(9)=34\n",
      "k(10)=55\n",
      "k(11)=89\n",
      "k(12)=144\n",
      "k(13)=233\n",
      "k(14)=377\n",
      "k(15)=610\n",
      "k(16)=987\n",
      "k(17)=1597\n",
      "k(18)=2584\n",
      "k(19)=4181\n",
      "k(20)=6765\n",
      "k(21)=10946\n",
      "k(22)=17711\n",
      "k(23)=28657\n",
      "k(24)=46368\n",
      "k(25)=75025\n",
      "k(26)=121393\n",
      "k(27)=196418\n",
      "k(28)=317811\n",
      "k(29)=514229\n",
      "k(30)=832040\n"
     ]
    }
   ],
   "source": [
    "\"\"\"ejemplo1_C11.py\"\"\"\n",
    "def Fibonacci(n):\n",
    "    if n in (0,1):\n",
    "        return n\n",
    "    else:\n",
    "        return Fibonacci(n-1)+Fibonacci(n-2)\n",
    "for n in range (31):\n",
    "    print(f'k({n})={Fibonacci(n)}')"
   ]
  },
  {
   "cell_type": "markdown",
   "id": "3c04859c-cf6d-4850-8e37-addd2a130a09",
   "metadata": {},
   "source": [
    "Ahora vamos a probarla, arma un for que muestre lo valores Fibonacci de 0 a 40. "
   ]
  },
  {
   "cell_type": "code",
   "execution_count": 2,
   "id": "39156c16-41fa-4aab-ad45-86cc1b8f9e99",
   "metadata": {},
   "outputs": [
    {
     "name": "stdout",
     "output_type": "stream",
     "text": [
      "F(0) = 0\n",
      "F(1) = 1\n",
      "F(2) = 1\n",
      "F(3) = 2\n",
      "F(4) = 3\n",
      "F(5) = 5\n",
      "F(6) = 8\n",
      "F(7) = 13\n",
      "F(8) = 21\n",
      "F(9) = 34\n",
      "F(10) = 55\n",
      "F(11) = 89\n",
      "F(12) = 144\n",
      "F(13) = 233\n",
      "F(14) = 377\n",
      "F(15) = 610\n",
      "F(16) = 987\n",
      "F(17) = 1597\n",
      "F(18) = 2584\n",
      "F(19) = 4181\n",
      "F(20) = 6765\n",
      "F(21) = 10946\n",
      "F(22) = 17711\n",
      "F(23) = 28657\n",
      "F(24) = 46368\n",
      "F(25) = 75025\n",
      "F(26) = 121393\n",
      "F(27) = 196418\n",
      "F(28) = 317811\n",
      "F(29) = 514229\n",
      "F(30) = 832040\n",
      "F(31) = 1346269\n",
      "F(32) = 2178309\n",
      "F(33) = 3524578\n",
      "F(34) = 5702887\n",
      "F(35) = 9227465\n",
      "F(36) = 14930352\n",
      "F(37) = 24157817\n",
      "F(38) = 39088169\n",
      "F(39) = 63245986\n",
      "F(40) = 102334155\n"
     ]
    }
   ],
   "source": [
    "for n in range(41):\n",
    "    print(f'F({n}) = {Fibonacci(n)}')"
   ]
  },
  {
   "cell_type": "markdown",
   "id": "e6adabe9-b9f8-4b5c-b1c5-886630b83309",
   "metadata": {},
   "source": [
    "#### Por tu cuenta\n",
    "\n",
    "La versión iterativa de fibonacci es el siguiente programa. Usa %timeit para comparar la versión original vs la iterativa para los numeros 32,33 y 34"
   ]
  },
  {
   "cell_type": "markdown",
   "id": "ef2abe5f-a751-45b2-9893-12cf04b99497",
   "metadata": {},
   "source": [
    "def fibonacci_iterativo(n):\n",
    "    resultado = 0\n",
    "    temp = 1\n",
    "    for j in range(0,n):\n",
    "        temp, resultado = resultado, resultado + temp\n",
    "    return resultado"
   ]
  },
  {
   "cell_type": "code",
   "execution_count": 4,
   "id": "451e92ad-4c45-4cb3-b364-31f494e30289",
   "metadata": {},
   "outputs": [],
   "source": [
    "import timeit\n",
    "\n",
    "def fibonacci_recursivo(n):\n",
    "    if n in (0, 1):\n",
    "        return n\n",
    "    else:\n",
    "        return fibonacci_recursivo(n-1) + fibonacci_recursivo(n-2)\n",
    "\n",
    "def fibonacci_iterativo(n):\n",
    "    resultado = 0\n",
    "    temp = 1\n",
    "    for j in range(0, n):\n",
    "        temp, resultado = resultado, resultado + temp\n",
    "    return resultado\n"
   ]
  },
  {
   "cell_type": "code",
   "execution_count": 5,
   "id": "c2627128-e72a-4b18-b0e5-dcac10631f0e",
   "metadata": {},
   "outputs": [
    {
     "name": "stdout",
     "output_type": "stream",
     "text": [
      "Comparando tiempos de ejecución para Fibonacci de 32, 33 y 34:\n",
      "\n",
      "Versión recursiva:\n",
      "Tiempo de ejecución para Fibonacci(32): 4.234548800000084\n",
      "Tiempo de ejecución para Fibonacci(33): 6.826042799999868\n",
      "Tiempo de ejecución para Fibonacci(34): 11.15814649999993\n",
      "\n",
      "Versión iterativa:\n",
      "Tiempo de ejecución para Fibonacci(32): 1.2799999694834696e-05\n",
      "Tiempo de ejecución para Fibonacci(33): 1.0899999779212521e-05\n",
      "Tiempo de ejecución para Fibonacci(34): 1.1099999937869143e-05\n"
     ]
    }
   ],
   "source": [
    "print(\"Comparando tiempos de ejecución para Fibonacci de 32, 33 y 34:\")\n",
    "\n",
    "print(\"\\nVersión recursiva:\")\n",
    "print(\"Tiempo de ejecución para Fibonacci(32):\", timeit.timeit('fibonacci_recursivo(32)', globals=globals(), number=10))\n",
    "print(\"Tiempo de ejecución para Fibonacci(33):\", timeit.timeit('fibonacci_recursivo(33)', globals=globals(), number=10))\n",
    "print(\"Tiempo de ejecución para Fibonacci(34):\", timeit.timeit('fibonacci_recursivo(34)', globals=globals(), number=10))\n",
    "\n",
    "print(\"\\nVersión iterativa:\")\n",
    "print(\"Tiempo de ejecución para Fibonacci(32):\", timeit.timeit('fibonacci_iterativo(32)', globals=globals(), number=10))\n",
    "print(\"Tiempo de ejecución para Fibonacci(33):\", timeit.timeit('fibonacci_iterativo(33)', globals=globals(), number=10))\n",
    "print(\"Tiempo de ejecución para Fibonacci(34):\", timeit.timeit('fibonacci_iterativo(34)', globals=globals(), number=10))"
   ]
  },
  {
   "cell_type": "markdown",
   "id": "c1f5e086-b323-41b4-b4ec-efaa21e2c80a",
   "metadata": {},
   "source": [
    "### 11.2.2.- Series Geometricas"
   ]
  },
  {
   "cell_type": "markdown",
   "id": "cd84dea4-261c-46a9-8cd6-50e2ecd92e0f",
   "metadata": {},
   "source": [
    "Ahora vamos a armar series geometricas. Está tendra a=3, r=1/2 y n=20\n",
    "\n",
    "COmenzamos con la definicion de las variables a y r"
   ]
  },
  {
   "cell_type": "code",
   "execution_count": 6,
   "id": "66b25640-c0da-4d3e-8b8c-cf8627cf121a",
   "metadata": {},
   "outputs": [],
   "source": [
    "\"\"\"ejemplo2_C11.py\"\"\"\n",
    "a=3\n",
    "r=1/2"
   ]
  },
  {
   "cell_type": "markdown",
   "id": "a461094b-66a3-43a9-8ec1-ff2501752f41",
   "metadata": {},
   "source": [
    "Ahora vamos a la definición de la función serie_geom(n)"
   ]
  },
  {
   "cell_type": "code",
   "execution_count": 12,
   "id": "2beb023a-1119-499f-b9e4-8d07f6e84bb3",
   "metadata": {},
   "outputs": [],
   "source": [
    "def serie_geom(n):\n",
    "    if n == 0: return n\n",
    "    else:\n",
    "        return serie_geom (n - 1) + a * r ** (n - 1)"
   ]
  },
  {
   "cell_type": "markdown",
   "id": "4631973e-445c-49a0-9f5e-3c941c8d476e",
   "metadata": {},
   "source": [
    "Y terminamos con la impresión de los resultados del 1 al 10"
   ]
  },
  {
   "cell_type": "code",
   "execution_count": 13,
   "id": "ff3fe2f4-4586-465a-a82d-e07a8764e742",
   "metadata": {},
   "outputs": [
    {
     "name": "stdout",
     "output_type": "stream",
     "text": [
      "k(1)=3.0\n",
      "k(2)=4.5\n",
      "k(3)=5.25\n",
      "k(4)=5.625\n",
      "k(5)=5.8125\n",
      "k(6)=5.90625\n",
      "k(7)=5.953125\n",
      "k(8)=5.9765625\n",
      "k(9)=5.98828125\n"
     ]
    }
   ],
   "source": [
    "for n in range (1, 10):\n",
    "    print (f'k({n})={serie_geom (n)}')"
   ]
  },
  {
   "cell_type": "markdown",
   "id": "9f6abc8f-92e8-480e-8334-4f5d046e41e5",
   "metadata": {},
   "source": [
    "### 11.2.3.- Factorial"
   ]
  },
  {
   "cell_type": "markdown",
   "id": "88784460-c0f8-4893-9e0c-a1363de68e4a",
   "metadata": {},
   "source": [
    "Ahora vamos a ver factoriales, comenzamos definiendo la funcion factorial"
   ]
  },
  {
   "cell_type": "code",
   "execution_count": 14,
   "id": "074911c2-0ca5-4677-8391-7d77113803bd",
   "metadata": {},
   "outputs": [],
   "source": [
    "\"\"\"ejemplo3_C11.py\"\"\"\n",
    "def factorial(n): \n",
    "    if n<=1:\n",
    "        return 1\n",
    "    return n*factorial(n-1)"
   ]
  },
  {
   "cell_type": "markdown",
   "id": "0310758d-7f6b-4f2e-a6e3-13440bede434",
   "metadata": {},
   "source": [
    "E imprimimos del 1 al 20"
   ]
  },
  {
   "cell_type": "code",
   "execution_count": 15,
   "id": "f087e0b3-ba72-4ec6-ab70-be34ae7a5dff",
   "metadata": {},
   "outputs": [
    {
     "name": "stdout",
     "output_type": "stream",
     "text": [
      "1!=1\n",
      "2!=2\n",
      "3!=6\n",
      "4!=24\n",
      "5!=120\n",
      "6!=720\n",
      "7!=5040\n",
      "8!=40320\n",
      "9!=362880\n",
      "10!=3628800\n",
      "11!=39916800\n",
      "12!=479001600\n",
      "13!=6227020800\n",
      "14!=87178291200\n",
      "15!=1307674368000\n",
      "16!=20922789888000\n",
      "17!=355687428096000\n",
      "18!=6402373705728000\n",
      "19!=121645100408832000\n",
      "20!=2432902008176640000\n"
     ]
    }
   ],
   "source": [
    "for i in range(1,21): \n",
    "    print(f'{i}!={factorial(i)}')"
   ]
  },
  {
   "cell_type": "markdown",
   "id": "1c737631-a31f-4e71-8b0a-73b14db2ede0",
   "metadata": {},
   "source": [
    "Ahora intenta el factorial de forma iterativa"
   ]
  },
  {
   "cell_type": "code",
   "execution_count": 16,
   "id": "c52108f1-9148-45b7-9b91-de45ec1e8d82",
   "metadata": {},
   "outputs": [],
   "source": [
    "\"\"\"ejemplo4_C11.py\"\"\"\n",
    "def Fibonacci_iterativo(n): \n",
    "    suma=0\n",
    "    aux=1\n",
    "    for j in range(0,n):\n",
    "        aux, suma=suma, suma+aux \n",
    "    return suma"
   ]
  },
  {
   "cell_type": "code",
   "execution_count": 17,
   "id": "0155899f-c75d-46a4-9545-c24f723a26b6",
   "metadata": {},
   "outputs": [
    {
     "name": "stdout",
     "output_type": "stream",
     "text": [
      "13\n"
     ]
    }
   ],
   "source": [
    "print(Fibonacci_iterativo(7))"
   ]
  },
  {
   "cell_type": "code",
   "execution_count": 18,
   "id": "f6317e13",
   "metadata": {},
   "outputs": [
    {
     "name": "stdout",
     "output_type": "stream",
     "text": [
      "2432902008176640000\n"
     ]
    }
   ],
   "source": [
    "\"\"\"ejemplo5_C11.py\"\"\"\n",
    "factorial=1\n",
    "for n in range(20,1,-1):\n",
    "    factorial *= n\n",
    "print(factorial)"
   ]
  },
  {
   "cell_type": "markdown",
   "id": "f3787b88-147c-4214-a0a3-c54230f31b37",
   "metadata": {},
   "source": [
    "## 11.3.- Búsqueda"
   ]
  },
  {
   "cell_type": "markdown",
   "id": "96256528",
   "metadata": {},
   "source": [
    "En esta sección se presentan dos métodos de búsqueda. Uno que es muy sencillo de programar y\n",
    "otro que es mucho más rápido, pero también, más complejo de programar.\n",
    "El primero de ellos es el algoritmo de búsqueda lineal. Este método busca un elemento dentro de\n",
    "un arreglo, por lo prueba con cada elemento del arreglo si existe alguna coincidencia. Si esto ocurre o no, informa al usuario el resultado de la búsqueda.\n",
    "Para probar este método considera el siguiente conjunto de valores\n",
    "1.70, 1.65, 1.58, 1.81, 1.84, 1.78, 1.68, 1.72\n",
    "Este método es llamado de búsqueda lineal, y se presenta a continuación.\n"
   ]
  },
  {
   "cell_type": "code",
   "execution_count": 25,
   "id": "e9e1d9f8",
   "metadata": {},
   "outputs": [
    {
     "name": "stdout",
     "output_type": "stream",
     "text": [
      "El número que buscas tiene índice: -1\n"
     ]
    }
   ],
   "source": [
    "def busqueda_lineal(datos, dato_buscar):\n",
    "    for indice, valor in enumerate (datos):\n",
    "        if valor == dato_buscar: return indice\n",
    "        return -1\n",
    "datos = [1.70, 1.65, 1.58, 1.81, 1.84, 1.78, 1.68, 1.72]\n",
    "print('El número que buscas tiene índice:',busqueda_lineal(datos, 1.81))"
   ]
  },
  {
   "cell_type": "markdown",
   "id": "22fdb0ae",
   "metadata": {},
   "source": [
    "Muestra un código más elaborado que realiza la búsqueda binaria."
   ]
  },
  {
   "cell_type": "markdown",
   "id": "1cb23ec5",
   "metadata": {},
   "source": [
    "En esta parte el programa divide al conjunto en dos segmentos, cuando ya no sea posible mostrará -1 para indicar que el elemento no está en la lista"
   ]
  },
  {
   "cell_type": "code",
   "execution_count": 42,
   "id": "d6cc1315",
   "metadata": {},
   "outputs": [
    {
     "name": "stdout",
     "output_type": "stream",
     "text": [
      "Datos ordenados: [10 11 17 19 33 36 56 61 62 76 80 83 85 86 87] \n",
      "\n",
      "10 11 17 19 33 36 56 61 62 76 80 83 85 86 87\n",
      "        * \n",
      "10 11 17 19 33 36 56\n",
      "    * \n",
      "10 11 17\n",
      "  * \n",
      "  17\n",
      "   * \n",
      "13 no se encuentra\n",
      "\n",
      "10 11 17 19 33 36 56 61 62 76 80 83 85 86 87\n",
      "        * \n",
      "10 11 17 19 33 36 56\n",
      "    * \n",
      "19 está en la posición 3\n",
      "\n",
      "10 11 17 19 33 36 56 61 62 76 80 83 85 86 87\n",
      "        * \n",
      "10 11 17 19 33 36 56\n",
      "    * \n",
      "    33 36 56\n",
      "      * \n",
      "      56\n",
      "       * \n",
      "55 no se encuentra\n",
      "\n",
      "10 11 17 19 33 36 56 61 62 76 80 83 85 86 87\n",
      "        * \n",
      "10 11 17 19 33 36 56\n",
      "    * \n",
      "    33 36 56\n",
      "      * \n",
      "36 está en la posición 5\n",
      "\n"
     ]
    }
   ],
   "source": [
    "\"\"\"Implementación de la búsqueda binaria.\"\"\"\n",
    "import numpy as np\n",
    "\n",
    "def busqueda_binaria(datos, dato_buscar):\n",
    "    bajo = 0\n",
    "    alto = len(datos) - 1\n",
    "    localizacion = -1\n",
    "    while bajo <= alto and localizacion == -1:\n",
    "        medio = (bajo + alto) // 2\n",
    "        print(elementos_restantes(datos, bajo, alto))\n",
    "        print(' ' * medio, end='')\n",
    "        print(' * ')\n",
    "        if dato_buscar == datos[medio]:\n",
    "            localizacion = medio\n",
    "        elif dato_buscar < datos[medio]:\n",
    "            alto = medio - 1\n",
    "        else:\n",
    "            bajo = medio + 1\n",
    "    return localizacion\n",
    "\n",
    "def elementos_restantes(datos, bajo, alto):\n",
    "    return ' ' * bajo + ' '.join(str(s) for s in datos[bajo:alto + 1])\n",
    "\n",
    "def main():\n",
    "    datos = np.random.randint(10, 91, 15)\n",
    "    datos.sort()\n",
    "    print(\"Datos ordenados:\", datos, '\\n')\n",
    "    \n",
    "    buscar_key = int(input('Ingresa un valor entero (-1 para salir): '))\n",
    "    \n",
    "    while buscar_key != -1:\n",
    "        localizacion = busqueda_binaria(datos, buscar_key)\n",
    "        if localizacion == -1:\n",
    "            print(f'{buscar_key} no se encuentra\\n')\n",
    "        else:\n",
    "            print(f'{buscar_key} está en la posición {localizacion}\\n')\n",
    "        buscar_key = int(input('Ingresa un valor entero (-1 para salir): '))\n",
    "\n",
    "if __name__ == '__main__':\n",
    "    main()"
   ]
  },
  {
   "cell_type": "markdown",
   "id": "b72c7c8c-dae8-4004-a23f-c2858859867d",
   "metadata": {},
   "source": [
    "## 11.4.- Ordenamiento"
   ]
  },
  {
   "cell_type": "markdown",
   "id": "0f18e51a-df67-497a-96a9-e3e665f1d1d4",
   "metadata": {},
   "source": [
    "### 11.4.1.- Ordenamiento por Selección"
   ]
  },
  {
   "cell_type": "markdown",
   "id": "1a6d3ee0-7320-44ef-8bf5-d999a1ee561f",
   "metadata": {},
   "source": [
    "Vamos a comenzar con Ordenamiento por Selección\n",
    "\n",
    "En este ciclo, se reduce la cantidad de elementos, una vez que se ha encontrado el elemento más\n",
    "pequeño y se ubica en la primera posición."
   ]
  },
  {
   "cell_type": "markdown",
   "id": "8d24352c-e131-41cb-afb0-fb1878127bea",
   "metadata": {},
   "source": [
    "En esta parte se identifica el elemento más pequeño, entre los elementos que quedan, y se intercambia de posición con el elemento que tiene el índice más bajo. "
   ]
  },
  {
   "cell_type": "code",
   "execution_count": 54,
   "id": "a1205ce9-172f-4584-b801-68832f93fbce",
   "metadata": {},
   "outputs": [],
   "source": [
    "def ordenamiento_sel(datos):\n",
    "    for indice1 in range(len(datos) - 1):\n",
    "        peque = indice1\n",
    "    for indice2 in range(indice1 + 1, len(datos)):\n",
    "        if datos[indice2] < datos[peque]:\n",
    "            peque = indice2\n",
    "    datos[peque], datos[indice1] = datos[indice1], datos[peque]\n",
    "    "
   ]
  },
  {
   "cell_type": "markdown",
   "id": "c68a3d0a-aac2-4051-91f8-e85f7ae9049a",
   "metadata": {},
   "source": [
    "Y ahora apliquemos este algoritmo a auna lista que contiene la estatura de 9 personas\n",
    "\n",
    "1.85, 1.70, 1.58, 1.83, 1.80, 1.75, 1.70, 1.90, 1.65"
   ]
  },
  {
   "cell_type": "code",
   "execution_count": 55,
   "id": "71f56ca5-492d-4e01-949a-06fb868e2de8",
   "metadata": {},
   "outputs": [],
   "source": [
    "datos = np.array ([1.85, 1.70, 1.58, 1.83, 1.80, 1.75, 1.70, 1.90, 1.65])"
   ]
  },
  {
   "cell_type": "code",
   "execution_count": 56,
   "id": "94996880-1a0f-40a3-ad33-e97191c600a0",
   "metadata": {},
   "outputs": [
    {
     "name": "stdout",
     "output_type": "stream",
     "text": [
      "Arreglo sin orden: [1.85 1.7  1.58 1.83 1.8  1.75 1.7  1.9  1.65]\n",
      "\n"
     ]
    }
   ],
   "source": [
    "print (f'Arreglo sin orden: {datos}\\n')"
   ]
  },
  {
   "cell_type": "code",
   "execution_count": 57,
   "id": "16111271-21a0-40ce-bbb4-b3758808d565",
   "metadata": {},
   "outputs": [
    {
     "name": "stdout",
     "output_type": "stream",
     "text": [
      "\n",
      "Arreglo ordenado: [1.85 1.7  1.58 1.83 1.8  1.75 1.7  1.9  1.65]\n",
      "\n"
     ]
    }
   ],
   "source": [
    "print (f'\\nArreglo ordenado: {datos}\\n')"
   ]
  },
  {
   "cell_type": "code",
   "execution_count": 58,
   "id": "1f79dc76-a408-450e-a341-c89b90743b34",
   "metadata": {},
   "outputs": [
    {
     "name": "stdout",
     "output_type": "stream",
     "text": [
      "Arreglo sin ordenar: [1.85 1.7  1.58 1.83 1.8  1.75 1.7  1.9  1.65]\n",
      "\n",
      "\n",
      "Arreglo ordenado: [1.58 1.65 1.7  1.7  1.75 1.8  1.83 1.85 1.9 ]\n",
      "\n"
     ]
    }
   ],
   "source": [
    "def ordenamiento_inser(datos):\n",
    "    for n in range(1, len(datos)):\n",
    "        insertar = datos[n]\n",
    "        mover_dato = n\n",
    "        while mover_dato > 0 and datos[mover_dato - 1] > insertar:\n",
    "            datos[mover_dato] = datos[mover_dato - 1]\n",
    "            mover_dato -= 1\n",
    "        datos[mover_dato] = insertar\n",
    "\n",
    "datos = np.array([1.85, 1.70, 1.58, 1.83, 1.80, 1.75, 1.70, 1.90, 1.65]) \n",
    "print(f'Arreglo sin ordenar: {datos}\\n')\n",
    "\n",
    "ordenamiento_inser(datos)\n",
    "\n",
    "print(f'\\nArreglo ordenado: {datos}\\n')"
   ]
  }
 ],
 "metadata": {
  "kernelspec": {
   "display_name": "Python 3",
   "language": "python",
   "name": "python3"
  },
  "language_info": {
   "codemirror_mode": {
    "name": "ipython",
    "version": 3
   },
   "file_extension": ".py",
   "mimetype": "text/x-python",
   "name": "python",
   "nbconvert_exporter": "python",
   "pygments_lexer": "ipython3",
   "version": "3.13.1"
  }
 },
 "nbformat": 4,
 "nbformat_minor": 5
}
